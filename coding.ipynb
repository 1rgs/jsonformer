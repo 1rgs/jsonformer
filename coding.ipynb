{
 "cells": [
  {
   "cell_type": "code",
   "execution_count": 5,
   "metadata": {},
   "outputs": [],
   "source": [
    "from transformers import AutoTokenizer\n",
    "from jsonformer import Jsonformer"
   ]
  },
  {
   "cell_type": "code",
   "execution_count": 2,
   "metadata": {},
   "outputs": [
    {
     "data": {
      "application/vnd.jupyter.widget-view+json": {
       "model_id": "0327f14545b74c38bc99223e52a7bf52",
       "version_major": 2,
       "version_minor": 0
      },
      "text/plain": [
       "VBox(children=(HTML(value='<center> <img\\nsrc=https://huggingface.co/front/assets/huggingface_logo-noborder.sv…"
      ]
     },
     "metadata": {},
     "output_type": "display_data"
    }
   ],
   "source": [
    "from huggingface_hub import login\n",
    "\n",
    "login()"
   ]
  },
  {
   "cell_type": "code",
   "execution_count": 3,
   "metadata": {},
   "outputs": [],
   "source": [
    "checkpoint = 'meta-llama/Llama-2-7b-hf'\n",
    "\n",
    "tokenizer = AutoTokenizer.from_pretrained(checkpoint)"
   ]
  },
  {
   "cell_type": "code",
   "execution_count": 10,
   "metadata": {},
   "outputs": [],
   "source": [
    "carrier_types = [\"GSM\", \"LTE-TDD\", \"LTE-RDD\", \"WCDMA\"]\n",
    "carrier_conf_types = [f\"{i} Tx / {j} Rx\" for i in range(5) for j in range(5)]"
   ]
  },
  {
   "cell_type": "code",
   "execution_count": 73,
   "metadata": {},
   "outputs": [],
   "source": [
    "def build_tree(enums):\n",
    "    tree = {}\n",
    "    for enum in enums:\n",
    "        encoded_enum = tokenizer.encode(enum)[1:] # we want to skip sos token\n",
    "        curr_obj = tree\n",
    "        for code in encoded_enum:\n",
    "            if code in curr_obj.keys():\n",
    "                curr_obj = curr_obj[code]\n",
    "            else:\n",
    "                curr_obj[code] = {}\n",
    "                curr_obj = curr_obj[code]\n",
    "    return tree"
   ]
  },
  {
   "cell_type": "code",
   "execution_count": 74,
   "metadata": {},
   "outputs": [
    {
     "data": {
      "text/plain": [
       "{29871: {29900: {323: {29916: {847: {29871: {29900: {390: {29916: {}}},\n",
       "       29896: {390: {29916: {}}},\n",
       "       29906: {390: {29916: {}}},\n",
       "       29941: {390: {29916: {}}},\n",
       "       29946: {390: {29916: {}}}}}}}},\n",
       "  29896: {323: {29916: {847: {29871: {29900: {390: {29916: {}}},\n",
       "       29896: {390: {29916: {}}},\n",
       "       29906: {390: {29916: {}}},\n",
       "       29941: {390: {29916: {}}},\n",
       "       29946: {390: {29916: {}}}}}}}},\n",
       "  29906: {323: {29916: {847: {29871: {29900: {390: {29916: {}}},\n",
       "       29896: {390: {29916: {}}},\n",
       "       29906: {390: {29916: {}}},\n",
       "       29941: {390: {29916: {}}},\n",
       "       29946: {390: {29916: {}}}}}}}},\n",
       "  29941: {323: {29916: {847: {29871: {29900: {390: {29916: {}}},\n",
       "       29896: {390: {29916: {}}},\n",
       "       29906: {390: {29916: {}}},\n",
       "       29941: {390: {29916: {}}},\n",
       "       29946: {390: {29916: {}}}}}}}},\n",
       "  29946: {323: {29916: {847: {29871: {29900: {390: {29916: {}}},\n",
       "       29896: {390: {29916: {}}},\n",
       "       29906: {390: {29916: {}}},\n",
       "       29941: {390: {29916: {}}},\n",
       "       29946: {390: {29916: {}}}}}}}}}}"
      ]
     },
     "execution_count": 74,
     "metadata": {},
     "output_type": "execute_result"
    }
   ],
   "source": [
    "tree = build_tree(carrier_conf_types)\n",
    "tree"
   ]
  },
  {
   "cell_type": "code",
   "execution_count": 75,
   "metadata": {},
   "outputs": [],
   "source": [
    "def pretty_print_dict(dictionary, indent=0):\n",
    "    for key, value in dictionary.items():\n",
    "        if isinstance(value, dict):\n",
    "            print('  ' * indent + f'{key}:')\n",
    "            pretty_print_dict(value, indent + 1)\n",
    "        else:\n",
    "            print('  ' * indent + f'{key}: {value}')"
   ]
  },
  {
   "cell_type": "code",
   "execution_count": 76,
   "metadata": {},
   "outputs": [
    {
     "name": "stdout",
     "output_type": "stream",
     "text": [
      "29871:\n",
      "  29900:\n",
      "    323:\n",
      "      29916:\n",
      "        847:\n",
      "          29871:\n",
      "            29900:\n",
      "              390:\n",
      "                29916:\n",
      "            29896:\n",
      "              390:\n",
      "                29916:\n",
      "            29906:\n",
      "              390:\n",
      "                29916:\n",
      "            29941:\n",
      "              390:\n",
      "                29916:\n",
      "            29946:\n",
      "              390:\n",
      "                29916:\n",
      "  29896:\n",
      "    323:\n",
      "      29916:\n",
      "        847:\n",
      "          29871:\n",
      "            29900:\n",
      "              390:\n",
      "                29916:\n",
      "            29896:\n",
      "              390:\n",
      "                29916:\n",
      "            29906:\n",
      "              390:\n",
      "                29916:\n",
      "            29941:\n",
      "              390:\n",
      "                29916:\n",
      "            29946:\n",
      "              390:\n",
      "                29916:\n",
      "  29906:\n",
      "    323:\n",
      "      29916:\n",
      "        847:\n",
      "          29871:\n",
      "            29900:\n",
      "              390:\n",
      "                29916:\n",
      "            29896:\n",
      "              390:\n",
      "                29916:\n",
      "            29906:\n",
      "              390:\n",
      "                29916:\n",
      "            29941:\n",
      "              390:\n",
      "                29916:\n",
      "            29946:\n",
      "              390:\n",
      "                29916:\n",
      "  29941:\n",
      "    323:\n",
      "      29916:\n",
      "        847:\n",
      "          29871:\n",
      "            29900:\n",
      "              390:\n",
      "                29916:\n",
      "            29896:\n",
      "              390:\n",
      "                29916:\n",
      "            29906:\n",
      "              390:\n",
      "                29916:\n",
      "            29941:\n",
      "              390:\n",
      "                29916:\n",
      "            29946:\n",
      "              390:\n",
      "                29916:\n",
      "  29946:\n",
      "    323:\n",
      "      29916:\n",
      "        847:\n",
      "          29871:\n",
      "            29900:\n",
      "              390:\n",
      "                29916:\n",
      "            29896:\n",
      "              390:\n",
      "                29916:\n",
      "            29906:\n",
      "              390:\n",
      "                29916:\n",
      "            29941:\n",
      "              390:\n",
      "                29916:\n",
      "            29946:\n",
      "              390:\n",
      "                29916:\n"
     ]
    }
   ],
   "source": [
    "pretty_print_dict(tree)"
   ]
  },
  {
   "cell_type": "code",
   "execution_count": null,
   "metadata": {},
   "outputs": [],
   "source": []
  }
 ],
 "metadata": {
  "kernelspec": {
   "display_name": "llm",
   "language": "python",
   "name": "python3"
  },
  "language_info": {
   "codemirror_mode": {
    "name": "ipython",
    "version": 3
   },
   "file_extension": ".py",
   "mimetype": "text/x-python",
   "name": "python",
   "nbconvert_exporter": "python",
   "pygments_lexer": "ipython3",
   "version": "3.10.12"
  },
  "orig_nbformat": 4
 },
 "nbformat": 4,
 "nbformat_minor": 2
}

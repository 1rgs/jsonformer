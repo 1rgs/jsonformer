{
 "cells": [
  {
   "cell_type": "code",
   "execution_count": 1,
   "metadata": {},
   "outputs": [
    {
     "name": "stderr",
     "output_type": "stream",
     "text": [
      "/home/ubuntu/jsonformer/.venv/lib/python3.8/site-packages/tqdm/auto.py:21: TqdmWarning: IProgress not found. Please update jupyter and ipywidgets. See https://ipywidgets.readthedocs.io/en/stable/user_install.html\n",
      "  from .autonotebook import tqdm as notebook_tqdm\n"
     ]
    },
    {
     "name": "stdout",
     "output_type": "stream",
     "text": [
      "Loading model and tokenizer...\n",
      "Loaded model and tokenizer\n"
     ]
    }
   ],
   "source": [
    "from transformers import AutoModelForCausalLM, AutoTokenizer\n",
    "\n",
    "print(\"Loading model and tokenizer...\")\n",
    "model_name = \"databricks/dolly-v2-3b\"\n",
    "model = AutoModelForCausalLM.from_pretrained(model_name, use_cache=True, device_map=\"auto\")\n",
    "tokenizer = AutoTokenizer.from_pretrained(model_name, use_fast=True, use_cache=True)\n",
    "print(\"Loaded model and tokenizer\")"
   ]
  },
  {
   "cell_type": "code",
   "execution_count": 4,
   "metadata": {},
   "outputs": [
    {
     "name": "stdout",
     "output_type": "stream",
     "text": [
      "Generating...\n",
      "{\n",
      "  temperature: \u001b[32m\"22.0\"\u001b[0m,\n",
      "  humidity: \u001b[32m\"60\"\u001b[0m,\n",
      "  wind_speed: {\n",
      "    value: \u001b[32m\"5\"\u001b[0m,\n",
      "    unit: \u001b[32m\"mph\"\u001b[0m\n",
      "  }\n",
      "}\n"
     ]
    }
   ],
   "source": [
    "from jsonformer.format import highlight_values\n",
    "from jsonformer.main import Jsonformer\n",
    "\n",
    "weather_schema = {\n",
    "    \"type\": \"object\",\n",
    "    \"properties\": {\n",
    "        \"temperature\": {\"type\": \"string\"},\n",
    "        \"humidity\": {\n",
    "            \"type\": \"string\",\n",
    "        },\n",
    "        \"wind_speed\": {\n",
    "            \"type\": \"object\",\n",
    "            \"properties\": {\n",
    "                \"value\": {\"type\": \"string\"},\n",
    "                \"unit\": {\"type\": \"string\"},\n",
    "            },\n",
    "        },\n",
    "    },\n",
    "}\n",
    "\n",
    "builder = Jsonformer(\n",
    "    model=model,\n",
    "    tokenizer=tokenizer,\n",
    "    json_schema=weather_schema,\n",
    "    prompt=\"generate the weather\",\n",
    "    device=\"cuda\",\n",
    ")\n",
    "\n",
    "print(\"Generating...\")\n",
    "output = builder()\n",
    "\n",
    "highlight_values(output)\n"
   ]
  },
  {
   "cell_type": "code",
   "execution_count": 3,
   "metadata": {},
   "outputs": [
    {
     "name": "stdout",
     "output_type": "stream",
     "text": [
      "Generating...\n",
      "{\n",
      "  make: \u001b[32m\"audi\"\u001b[0m,\n",
      "  model: \u001b[32m\"model a4\"\u001b[0m,\n",
      "  year: \u001b[32m1.0\u001b[0m,\n",
      "  colors: [\n",
      "    \u001b[32m\"blue\"\u001b[0m\n",
      "  ]\n",
      "}\n"
     ]
    }
   ],
   "source": [
    "car = {\n",
    "    \"type\": \"object\",\n",
    "    \"properties\": {\n",
    "        \"make\": {\"type\": \"string\"},\n",
    "        \"model\": {\"type\": \"string\"},\n",
    "        \"year\": {\"type\": \"string\"},\n",
    "        \"colors\": {\n",
    "            \"type\": \"array\",\n",
    "            \"items\": {\"type\": \"string\"},\n",
    "        },\n",
    "        \"shouldUseTurnSignal\": {\"type\": \"boolean\"},\n",
    "    },\n",
    "}\n",
    "\n",
    "builder = Jsonformer(\n",
    "    model=model,\n",
    "    tokenizer=tokenizer,\n",
    "    json_schema=car,\n",
    "    prompt=\"generate an example car\",\n",
    "    device=\"cuda\",\n",
    ")\n",
    "\n",
    "print(\"Generating...\")\n",
    "output = builder()\n",
    "\n",
    "highlight_values(output)\n"
   ]
  },
  {
   "cell_type": "code",
   "execution_count": null,
   "metadata": {},
   "outputs": [],
   "source": []
  }
 ],
 "metadata": {
  "kernelspec": {
   "display_name": ".venv",
   "language": "python",
   "name": "python3"
  },
  "language_info": {
   "codemirror_mode": {
    "name": "ipython",
    "version": 3
   },
   "file_extension": ".py",
   "mimetype": "text/x-python",
   "name": "python",
   "nbconvert_exporter": "python",
   "pygments_lexer": "ipython3",
   "version": "3.8.10"
  },
  "orig_nbformat": 4
 },
 "nbformat": 4,
 "nbformat_minor": 2
}
